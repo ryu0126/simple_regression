{
 "cells": [
  {
   "cell_type": "markdown",
   "id": "2378954f",
   "metadata": {},
   "source": [
    "## 問題設定\n",
    "日本の各都道府県には、東京のように店舗数やそこに揃えられている商品数が多く、食料の選択肢が多い県とそうでない県がある。\n",
    "そこで世帯人員が増えることによる食生活の変化がどの程度であるかを検証したい。\n",
    "つまり、日本の各都道府県の月あたりの肉類の消費量を各都道府県の世帯人員によって説明したい。"
   ]
  },
  {
   "cell_type": "code",
   "execution_count": 1,
   "id": "a9322fce",
   "metadata": {},
   "outputs": [],
   "source": [
    "import numpy as np\n",
    "import pandas as pd\n",
    "import matplotlib.pyplot as plt\n",
    "from scipy.stats import pearsonr"
   ]
  },
  {
   "cell_type": "code",
   "execution_count": 2,
   "id": "168d42a3",
   "metadata": {},
   "outputs": [
    {
     "data": {
      "text/html": [
       "<div>\n",
       "<style scoped>\n",
       "    .dataframe tbody tr th:only-of-type {\n",
       "        vertical-align: middle;\n",
       "    }\n",
       "\n",
       "    .dataframe tbody tr th {\n",
       "        vertical-align: top;\n",
       "    }\n",
       "\n",
       "    .dataframe thead th {\n",
       "        text-align: right;\n",
       "    }\n",
       "</style>\n",
       "<table border=\"1\" class=\"dataframe\">\n",
       "  <thead>\n",
       "    <tr style=\"text-align: right;\">\n",
       "      <th></th>\n",
       "      <th>都道府県</th>\n",
       "      <th>世帯人員</th>\n",
       "      <th>肉類</th>\n",
       "    </tr>\n",
       "  </thead>\n",
       "  <tbody>\n",
       "    <tr>\n",
       "      <th>0</th>\n",
       "      <td>全国</td>\n",
       "      <td>2.95</td>\n",
       "      <td>95071</td>\n",
       "    </tr>\n",
       "    <tr>\n",
       "      <th>1</th>\n",
       "      <td>北海道</td>\n",
       "      <td>2.84</td>\n",
       "      <td>90249</td>\n",
       "    </tr>\n",
       "    <tr>\n",
       "      <th>2</th>\n",
       "      <td>青森県</td>\n",
       "      <td>2.87</td>\n",
       "      <td>86377</td>\n",
       "    </tr>\n",
       "    <tr>\n",
       "      <th>3</th>\n",
       "      <td>岩手県</td>\n",
       "      <td>3.12</td>\n",
       "      <td>78536</td>\n",
       "    </tr>\n",
       "    <tr>\n",
       "      <th>4</th>\n",
       "      <td>宮城県</td>\n",
       "      <td>3.00</td>\n",
       "      <td>87201</td>\n",
       "    </tr>\n",
       "  </tbody>\n",
       "</table>\n",
       "</div>"
      ],
      "text/plain": [
       "  都道府県  世帯人員     肉類\n",
       "0   全国  2.95  95071\n",
       "1  北海道  2.84  90249\n",
       "2  青森県  2.87  86377\n",
       "3  岩手県  3.12  78536\n",
       "4  宮城県  3.00  87201"
      ]
     },
     "execution_count": 2,
     "metadata": {},
     "output_type": "execute_result"
    }
   ],
   "source": [
    "df = pd.read_csv('C:/Users/koyama/OneDrive/4期/応用統計1/SSDSE-C-2022 aaa.csv',encoding='shift-jis')\n",
    "df.head()"
   ]
  },
  {
   "cell_type": "code",
   "execution_count": 3,
   "id": "b2f8949e",
   "metadata": {},
   "outputs": [
    {
     "data": {
      "text/html": [
       "<div>\n",
       "<style scoped>\n",
       "    .dataframe tbody tr th:only-of-type {\n",
       "        vertical-align: middle;\n",
       "    }\n",
       "\n",
       "    .dataframe tbody tr th {\n",
       "        vertical-align: top;\n",
       "    }\n",
       "\n",
       "    .dataframe thead th {\n",
       "        text-align: right;\n",
       "    }\n",
       "</style>\n",
       "<table border=\"1\" class=\"dataframe\">\n",
       "  <thead>\n",
       "    <tr style=\"text-align: right;\">\n",
       "      <th></th>\n",
       "      <th>都道府県</th>\n",
       "      <th>世帯人員</th>\n",
       "      <th>肉類</th>\n",
       "    </tr>\n",
       "  </thead>\n",
       "  <tbody>\n",
       "    <tr>\n",
       "      <th>1</th>\n",
       "      <td>北海道</td>\n",
       "      <td>2.84</td>\n",
       "      <td>90249</td>\n",
       "    </tr>\n",
       "    <tr>\n",
       "      <th>2</th>\n",
       "      <td>青森県</td>\n",
       "      <td>2.87</td>\n",
       "      <td>86377</td>\n",
       "    </tr>\n",
       "    <tr>\n",
       "      <th>3</th>\n",
       "      <td>岩手県</td>\n",
       "      <td>3.12</td>\n",
       "      <td>78536</td>\n",
       "    </tr>\n",
       "    <tr>\n",
       "      <th>4</th>\n",
       "      <td>宮城県</td>\n",
       "      <td>3.00</td>\n",
       "      <td>87201</td>\n",
       "    </tr>\n",
       "    <tr>\n",
       "      <th>5</th>\n",
       "      <td>秋田県</td>\n",
       "      <td>2.72</td>\n",
       "      <td>83125</td>\n",
       "    </tr>\n",
       "    <tr>\n",
       "      <th>6</th>\n",
       "      <td>山形県</td>\n",
       "      <td>3.21</td>\n",
       "      <td>102538</td>\n",
       "    </tr>\n",
       "    <tr>\n",
       "      <th>7</th>\n",
       "      <td>福島県</td>\n",
       "      <td>2.99</td>\n",
       "      <td>82233</td>\n",
       "    </tr>\n",
       "    <tr>\n",
       "      <th>8</th>\n",
       "      <td>茨城県</td>\n",
       "      <td>2.80</td>\n",
       "      <td>77479</td>\n",
       "    </tr>\n",
       "    <tr>\n",
       "      <th>9</th>\n",
       "      <td>栃木県</td>\n",
       "      <td>2.90</td>\n",
       "      <td>86076</td>\n",
       "    </tr>\n",
       "    <tr>\n",
       "      <th>10</th>\n",
       "      <td>群馬県</td>\n",
       "      <td>2.89</td>\n",
       "      <td>74564</td>\n",
       "    </tr>\n",
       "    <tr>\n",
       "      <th>11</th>\n",
       "      <td>埼玉県</td>\n",
       "      <td>3.03</td>\n",
       "      <td>94116</td>\n",
       "    </tr>\n",
       "    <tr>\n",
       "      <th>12</th>\n",
       "      <td>千葉県</td>\n",
       "      <td>2.92</td>\n",
       "      <td>91984</td>\n",
       "    </tr>\n",
       "    <tr>\n",
       "      <th>13</th>\n",
       "      <td>東京都</td>\n",
       "      <td>2.92</td>\n",
       "      <td>104967</td>\n",
       "    </tr>\n",
       "    <tr>\n",
       "      <th>14</th>\n",
       "      <td>神奈川県</td>\n",
       "      <td>2.87</td>\n",
       "      <td>103593</td>\n",
       "    </tr>\n",
       "    <tr>\n",
       "      <th>15</th>\n",
       "      <td>新潟県</td>\n",
       "      <td>3.18</td>\n",
       "      <td>83145</td>\n",
       "    </tr>\n",
       "    <tr>\n",
       "      <th>16</th>\n",
       "      <td>富山県</td>\n",
       "      <td>3.09</td>\n",
       "      <td>87526</td>\n",
       "    </tr>\n",
       "    <tr>\n",
       "      <th>17</th>\n",
       "      <td>石川県</td>\n",
       "      <td>3.23</td>\n",
       "      <td>103438</td>\n",
       "    </tr>\n",
       "    <tr>\n",
       "      <th>18</th>\n",
       "      <td>福井県</td>\n",
       "      <td>2.97</td>\n",
       "      <td>94204</td>\n",
       "    </tr>\n",
       "    <tr>\n",
       "      <th>19</th>\n",
       "      <td>山梨県</td>\n",
       "      <td>2.90</td>\n",
       "      <td>84363</td>\n",
       "    </tr>\n",
       "    <tr>\n",
       "      <th>20</th>\n",
       "      <td>長野県</td>\n",
       "      <td>2.89</td>\n",
       "      <td>76055</td>\n",
       "    </tr>\n",
       "    <tr>\n",
       "      <th>21</th>\n",
       "      <td>岐阜県</td>\n",
       "      <td>2.99</td>\n",
       "      <td>89743</td>\n",
       "    </tr>\n",
       "    <tr>\n",
       "      <th>22</th>\n",
       "      <td>静岡県</td>\n",
       "      <td>2.97</td>\n",
       "      <td>92665</td>\n",
       "    </tr>\n",
       "    <tr>\n",
       "      <th>23</th>\n",
       "      <td>愛知県</td>\n",
       "      <td>2.92</td>\n",
       "      <td>90386</td>\n",
       "    </tr>\n",
       "    <tr>\n",
       "      <th>24</th>\n",
       "      <td>三重県</td>\n",
       "      <td>2.96</td>\n",
       "      <td>101933</td>\n",
       "    </tr>\n",
       "    <tr>\n",
       "      <th>25</th>\n",
       "      <td>滋賀県</td>\n",
       "      <td>3.01</td>\n",
       "      <td>118608</td>\n",
       "    </tr>\n",
       "    <tr>\n",
       "      <th>26</th>\n",
       "      <td>京都府</td>\n",
       "      <td>2.93</td>\n",
       "      <td>115718</td>\n",
       "    </tr>\n",
       "    <tr>\n",
       "      <th>27</th>\n",
       "      <td>大阪府</td>\n",
       "      <td>2.93</td>\n",
       "      <td>106269</td>\n",
       "    </tr>\n",
       "    <tr>\n",
       "      <th>28</th>\n",
       "      <td>兵庫県</td>\n",
       "      <td>2.88</td>\n",
       "      <td>103478</td>\n",
       "    </tr>\n",
       "    <tr>\n",
       "      <th>29</th>\n",
       "      <td>奈良県</td>\n",
       "      <td>2.81</td>\n",
       "      <td>111336</td>\n",
       "    </tr>\n",
       "    <tr>\n",
       "      <th>30</th>\n",
       "      <td>和歌山県</td>\n",
       "      <td>2.83</td>\n",
       "      <td>104675</td>\n",
       "    </tr>\n",
       "    <tr>\n",
       "      <th>31</th>\n",
       "      <td>鳥取県</td>\n",
       "      <td>3.14</td>\n",
       "      <td>94775</td>\n",
       "    </tr>\n",
       "    <tr>\n",
       "      <th>32</th>\n",
       "      <td>島根県</td>\n",
       "      <td>2.96</td>\n",
       "      <td>87401</td>\n",
       "    </tr>\n",
       "    <tr>\n",
       "      <th>33</th>\n",
       "      <td>岡山県</td>\n",
       "      <td>3.13</td>\n",
       "      <td>93934</td>\n",
       "    </tr>\n",
       "    <tr>\n",
       "      <th>34</th>\n",
       "      <td>広島県</td>\n",
       "      <td>3.01</td>\n",
       "      <td>107605</td>\n",
       "    </tr>\n",
       "    <tr>\n",
       "      <th>35</th>\n",
       "      <td>山口県</td>\n",
       "      <td>3.06</td>\n",
       "      <td>103749</td>\n",
       "    </tr>\n",
       "    <tr>\n",
       "      <th>36</th>\n",
       "      <td>徳島県</td>\n",
       "      <td>2.91</td>\n",
       "      <td>98139</td>\n",
       "    </tr>\n",
       "    <tr>\n",
       "      <th>37</th>\n",
       "      <td>香川県</td>\n",
       "      <td>2.92</td>\n",
       "      <td>92075</td>\n",
       "    </tr>\n",
       "    <tr>\n",
       "      <th>38</th>\n",
       "      <td>愛媛県</td>\n",
       "      <td>2.93</td>\n",
       "      <td>95994</td>\n",
       "    </tr>\n",
       "    <tr>\n",
       "      <th>39</th>\n",
       "      <td>高知県</td>\n",
       "      <td>2.95</td>\n",
       "      <td>89684</td>\n",
       "    </tr>\n",
       "    <tr>\n",
       "      <th>40</th>\n",
       "      <td>福岡県</td>\n",
       "      <td>2.98</td>\n",
       "      <td>101977</td>\n",
       "    </tr>\n",
       "    <tr>\n",
       "      <th>41</th>\n",
       "      <td>佐賀県</td>\n",
       "      <td>2.89</td>\n",
       "      <td>101401</td>\n",
       "    </tr>\n",
       "    <tr>\n",
       "      <th>42</th>\n",
       "      <td>長崎県</td>\n",
       "      <td>2.74</td>\n",
       "      <td>90711</td>\n",
       "    </tr>\n",
       "    <tr>\n",
       "      <th>43</th>\n",
       "      <td>熊本県</td>\n",
       "      <td>3.09</td>\n",
       "      <td>106539</td>\n",
       "    </tr>\n",
       "    <tr>\n",
       "      <th>44</th>\n",
       "      <td>大分県</td>\n",
       "      <td>2.82</td>\n",
       "      <td>98062</td>\n",
       "    </tr>\n",
       "    <tr>\n",
       "      <th>45</th>\n",
       "      <td>宮崎県</td>\n",
       "      <td>2.92</td>\n",
       "      <td>98432</td>\n",
       "    </tr>\n",
       "    <tr>\n",
       "      <th>46</th>\n",
       "      <td>鹿児島県</td>\n",
       "      <td>2.84</td>\n",
       "      <td>98529</td>\n",
       "    </tr>\n",
       "    <tr>\n",
       "      <th>47</th>\n",
       "      <td>沖縄県</td>\n",
       "      <td>2.93</td>\n",
       "      <td>75953</td>\n",
       "    </tr>\n",
       "  </tbody>\n",
       "</table>\n",
       "</div>"
      ],
      "text/plain": [
       "    都道府県  世帯人員      肉類\n",
       "1    北海道  2.84   90249\n",
       "2    青森県  2.87   86377\n",
       "3    岩手県  3.12   78536\n",
       "4    宮城県  3.00   87201\n",
       "5    秋田県  2.72   83125\n",
       "6    山形県  3.21  102538\n",
       "7    福島県  2.99   82233\n",
       "8    茨城県  2.80   77479\n",
       "9    栃木県  2.90   86076\n",
       "10   群馬県  2.89   74564\n",
       "11   埼玉県  3.03   94116\n",
       "12   千葉県  2.92   91984\n",
       "13   東京都  2.92  104967\n",
       "14  神奈川県  2.87  103593\n",
       "15   新潟県  3.18   83145\n",
       "16   富山県  3.09   87526\n",
       "17   石川県  3.23  103438\n",
       "18   福井県  2.97   94204\n",
       "19   山梨県  2.90   84363\n",
       "20   長野県  2.89   76055\n",
       "21   岐阜県  2.99   89743\n",
       "22   静岡県  2.97   92665\n",
       "23   愛知県  2.92   90386\n",
       "24   三重県  2.96  101933\n",
       "25   滋賀県  3.01  118608\n",
       "26   京都府  2.93  115718\n",
       "27   大阪府  2.93  106269\n",
       "28   兵庫県  2.88  103478\n",
       "29   奈良県  2.81  111336\n",
       "30  和歌山県  2.83  104675\n",
       "31   鳥取県  3.14   94775\n",
       "32   島根県  2.96   87401\n",
       "33   岡山県  3.13   93934\n",
       "34   広島県  3.01  107605\n",
       "35   山口県  3.06  103749\n",
       "36   徳島県  2.91   98139\n",
       "37   香川県  2.92   92075\n",
       "38   愛媛県  2.93   95994\n",
       "39   高知県  2.95   89684\n",
       "40   福岡県  2.98  101977\n",
       "41   佐賀県  2.89  101401\n",
       "42   長崎県  2.74   90711\n",
       "43   熊本県  3.09  106539\n",
       "44   大分県  2.82   98062\n",
       "45   宮崎県  2.92   98432\n",
       "46  鹿児島県  2.84   98529\n",
       "47   沖縄県  2.93   75953"
      ]
     },
     "execution_count": 3,
     "metadata": {},
     "output_type": "execute_result"
    }
   ],
   "source": [
    "df=df.drop(0)\n",
    "df"
   ]
  },
  {
   "cell_type": "code",
   "execution_count": 4,
   "id": "6c752aeb",
   "metadata": {},
   "outputs": [],
   "source": [
    "y = df[\"肉類\"]\n",
    "x = df['世帯人員']"
   ]
  },
  {
   "cell_type": "code",
   "execution_count": 5,
   "id": "8bccd8e3",
   "metadata": {},
   "outputs": [
    {
     "data": {
      "text/plain": [
       "<matplotlib.collections.PathCollection at 0x28aee983fa0>"
      ]
     },
     "execution_count": 5,
     "metadata": {},
     "output_type": "execute_result"
    },
    {
     "data": {
      "image/png": "[encoded data removed]",
      "text/plain": [
       "<Figure size 432x288 with 1 Axes>"
      ]
     },
     "metadata": {
      "needs_background": "light"
     },
     "output_type": "display_data"
    }
   ],
   "source": [
    "plt.scatter(x,y)"
   ]
  },
  {
   "cell_type": "markdown",
   "id": "4fa5f72e",
   "metadata": {},
   "source": [
    "散布図において一貫性がなく、相関がないように思われる。"
   ]
  },
  {
   "cell_type": "code",
   "execution_count": 6,
   "id": "d3fd1c6f",
   "metadata": {},
   "outputs": [],
   "source": [
    "p_s = 0.05"
   ]
  },
  {
   "cell_type": "code",
   "execution_count": 7,
   "id": "cb90e70a",
   "metadata": {},
   "outputs": [],
   "source": [
    "r, p = pearsonr(x,y)"
   ]
  },
  {
   "cell_type": "code",
   "execution_count": 8,
   "id": "2fdd6cba",
   "metadata": {},
   "outputs": [
    {
     "data": {
      "text/plain": [
       "0.10270000056827466"
      ]
     },
     "execution_count": 8,
     "metadata": {},
     "output_type": "execute_result"
    }
   ],
   "source": [
    "r"
   ]
  },
  {
   "cell_type": "code",
   "execution_count": 9,
   "id": "c079214f",
   "metadata": {},
   "outputs": [
    {
     "data": {
      "text/plain": [
       "0.4921228058397235"
      ]
     },
     "execution_count": 9,
     "metadata": {},
     "output_type": "execute_result"
    }
   ],
   "source": [
    "p"
   ]
  },
  {
   "cell_type": "code",
   "execution_count": 10,
   "id": "18ecd7b3",
   "metadata": {},
   "outputs": [
    {
     "name": "stdout",
     "output_type": "stream",
     "text": [
      "世帯人員と肉類には相関がない可能性を排除できなかった。\n"
     ]
    }
   ],
   "source": [
    "if p < p_s:\n",
    "    print(f\"肉類と世帯人員 には相関があり、相関係数は{ｒ}であった。\")\n",
    "elif p >= p_s:\n",
    "    print(f\"世帯人員と肉類には相関がない可能性を排除できなかった。\")"
   ]
  },
  {
   "cell_type": "code",
   "execution_count": 11,
   "id": "f3835068",
   "metadata": {},
   "outputs": [
    {
     "data": {
      "text/plain": [
       "(0.0, 120000.0)"
      ]
     },
     "execution_count": 11,
     "metadata": {},
     "output_type": "execute_result"
    },
    {
     "data": {
      "image/png": "[encoded data removed]",
      "text/plain": [
       "<Figure size 432x288 with 1 Axes>"
      ]
     },
     "metadata": {
      "needs_background": "light"
     },
     "output_type": "display_data"
    }
   ],
   "source": [
    "plt.scatter(x,y,alpha=0.5)\n",
    "plt.xlim(xmin = 0,xmax=3.3)\n",
    "plt.ylim(ymin = 0,ymax=120000)"
   ]
  },
  {
   "cell_type": "code",
   "execution_count": 12,
   "id": "b82c27e1",
   "metadata": {},
   "outputs": [],
   "source": [
    "deta_0 = 65000\n",
    "deta_1 =10000"
   ]
  },
  {
   "cell_type": "code",
   "execution_count": 13,
   "id": "7f352f07",
   "metadata": {},
   "outputs": [
    {
     "data": {
      "image/png": "[encoded data removed]",
      "text/plain": [
       "<Figure size 432x288 with 1 Axes>"
      ]
     },
     "metadata": {
      "needs_background": "light"
     },
     "output_type": "display_data"
    }
   ],
   "source": [
    "y_est = deta_0 + deta_1 * x\n",
    "plt.scatter(x,y,alpha=0.5)\n",
    "plt.plot(x,y_est,c=\"r\")\n",
    "plt.show()"
   ]
  },
  {
   "cell_type": "code",
   "execution_count": 14,
   "id": "70484d01",
   "metadata": {},
   "outputs": [],
   "source": [
    "resid = y_est -y"
   ]
  },
  {
   "cell_type": "code",
   "execution_count": 15,
   "id": "e96be94d",
   "metadata": {},
   "outputs": [
    {
     "data": {
      "image/png": "[encoded data removed]",
      "text/plain": [
       "<Figure size 432x288 with 1 Axes>"
      ]
     },
     "metadata": {
      "needs_background": "light"
     },
     "output_type": "display_data"
    }
   ],
   "source": [
    "plt.scatter(x,resid,alpha=0.5)\n",
    "plt.show()"
   ]
  },
  {
   "cell_type": "code",
   "execution_count": 16,
   "id": "38ec961b",
   "metadata": {},
   "outputs": [
    {
     "data": {
      "text/plain": [
       "5079577352.0"
      ]
     },
     "execution_count": 16,
     "metadata": {},
     "output_type": "execute_result"
    }
   ],
   "source": [
    "np.sum(resid**2)"
   ]
  },
  {
   "cell_type": "code",
   "execution_count": 17,
   "id": "88b68040",
   "metadata": {},
   "outputs": [],
   "source": [
    "log = {\n",
    "    \"切片\":[2.6,50000,],\n",
    "    \"傾き\":[3,10000,10000],\n",
    "    \"誤差2乗和\":[433797320011.0594,\n",
    "                 15856233393.0,\n",
    "                 5079903393.0]\n",
    "}"
   ]
  },
  {
   "cell_type": "code",
   "execution_count": 18,
   "id": "f56e1cfc",
   "metadata": {},
   "outputs": [],
   "source": [
    "import statsmodels.api as sm\n"
   ]
  },
  {
   "cell_type": "code",
   "execution_count": 19,
   "id": "c0f89db8",
   "metadata": {},
   "outputs": [],
   "source": [
    "X = sm.add_constant(x)\n"
   ]
  },
  {
   "cell_type": "code",
   "execution_count": 20,
   "id": "ff4a0e78",
   "metadata": {},
   "outputs": [],
   "source": [
    "model =sm.OLS(y,X)"
   ]
  },
  {
   "cell_type": "code",
   "execution_count": 21,
   "id": "581fd73e",
   "metadata": {},
   "outputs": [],
   "source": [
    "res = model.fit()"
   ]
  },
  {
   "cell_type": "code",
   "execution_count": 22,
   "id": "0525fa3e",
   "metadata": {},
   "outputs": [
    {
     "name": "stdout",
     "output_type": "stream",
     "text": [
      "66546.2204876639 9466.587197058834\n"
     ]
    }
   ],
   "source": [
    "deta0_est,deta1_est = res.params\n",
    "print(deta0_est,deta1_est)"
   ]
  },
  {
   "cell_type": "code",
   "execution_count": 23,
   "id": "8202e821",
   "metadata": {},
   "outputs": [],
   "source": [
    "y_est = deta0_est + deta1_est*x"
   ]
  },
  {
   "cell_type": "code",
   "execution_count": 24,
   "id": "27588e23",
   "metadata": {},
   "outputs": [
    {
     "data": {
      "image/png": "[encoded data removed]",
      "text/plain": [
       "<Figure size 432x288 with 1 Axes>"
      ]
     },
     "metadata": {
      "needs_background": "light"
     },
     "output_type": "display_data"
    }
   ],
   "source": [
    "plt.scatter(x,y,alpha=0.5)\n",
    "plt.plot(x,y_est,c=\"r\")\n",
    "plt.show()"
   ]
  },
  {
   "cell_type": "code",
   "execution_count": 25,
   "id": "f46be719",
   "metadata": {},
   "outputs": [],
   "source": [
    "resid =y_est -y"
   ]
  },
  {
   "cell_type": "code",
   "execution_count": 26,
   "id": "ca6ae226",
   "metadata": {},
   "outputs": [
    {
     "data": {
      "image/png": "[encoded data removed]",
      "text/plain": [
       "<Figure size 432x288 with 1 Axes>"
      ]
     },
     "metadata": {
      "needs_background": "light"
     },
     "output_type": "display_data"
    }
   ],
   "source": [
    "plt.scatter(x,resid,alpha=0.5)\n",
    "plt.show()"
   ]
  },
  {
   "cell_type": "code",
   "execution_count": 27,
   "id": "e677c263",
   "metadata": {},
   "outputs": [
    {
     "data": {
      "text/plain": [
       "5079366091.097838"
      ]
     },
     "execution_count": 27,
     "metadata": {},
     "output_type": "execute_result"
    }
   ],
   "source": [
    "np.sum(resid**2)"
   ]
  },
  {
   "cell_type": "code",
   "execution_count": 28,
   "id": "68d21b3c",
   "metadata": {},
   "outputs": [
    {
     "data": {
      "text/plain": [
       "{'切片': [2.6, 50000],\n",
       " '傾き': [3, 10000, 10000],\n",
       " '誤差2乗和': [433797320011.0594, 15856233393.0, 5079903393.0]}"
      ]
     },
     "execution_count": 28,
     "metadata": {},
     "output_type": "execute_result"
    }
   ],
   "source": [
    "log"
   ]
  },
  {
   "cell_type": "code",
   "execution_count": 29,
   "id": "cc8dab9e",
   "metadata": {},
   "outputs": [
    {
     "data": {
      "text/html": [
       "<div>\n",
       "<style scoped>\n",
       "    .dataframe tbody tr th:only-of-type {\n",
       "        vertical-align: middle;\n",
       "    }\n",
       "\n",
       "    .dataframe tbody tr th {\n",
       "        vertical-align: top;\n",
       "    }\n",
       "\n",
       "    .dataframe thead th {\n",
       "        text-align: right;\n",
       "    }\n",
       "</style>\n",
       "<table border=\"1\" class=\"dataframe\">\n",
       "  <thead>\n",
       "    <tr style=\"text-align: right;\">\n",
       "      <th></th>\n",
       "      <th>世帯人員</th>\n",
       "      <th>肉類</th>\n",
       "    </tr>\n",
       "  </thead>\n",
       "  <tbody>\n",
       "    <tr>\n",
       "      <th>count</th>\n",
       "      <td>47.000000</td>\n",
       "      <td>47.000000</td>\n",
       "    </tr>\n",
       "    <tr>\n",
       "      <th>mean</th>\n",
       "      <td>2.952979</td>\n",
       "      <td>94500.851064</td>\n",
       "    </tr>\n",
       "    <tr>\n",
       "      <th>std</th>\n",
       "      <td>0.114605</td>\n",
       "      <td>10563.998253</td>\n",
       "    </tr>\n",
       "    <tr>\n",
       "      <th>min</th>\n",
       "      <td>2.720000</td>\n",
       "      <td>74564.000000</td>\n",
       "    </tr>\n",
       "    <tr>\n",
       "      <th>25%</th>\n",
       "      <td>2.890000</td>\n",
       "      <td>87301.000000</td>\n",
       "    </tr>\n",
       "    <tr>\n",
       "      <th>50%</th>\n",
       "      <td>2.930000</td>\n",
       "      <td>94116.000000</td>\n",
       "    </tr>\n",
       "    <tr>\n",
       "      <th>75%</th>\n",
       "      <td>3.005000</td>\n",
       "      <td>102988.000000</td>\n",
       "    </tr>\n",
       "    <tr>\n",
       "      <th>max</th>\n",
       "      <td>3.230000</td>\n",
       "      <td>118608.000000</td>\n",
       "    </tr>\n",
       "  </tbody>\n",
       "</table>\n",
       "</div>"
      ],
      "text/plain": [
       "            世帯人員             肉類\n",
       "count  47.000000      47.000000\n",
       "mean    2.952979   94500.851064\n",
       "std     0.114605   10563.998253\n",
       "min     2.720000   74564.000000\n",
       "25%     2.890000   87301.000000\n",
       "50%     2.930000   94116.000000\n",
       "75%     3.005000  102988.000000\n",
       "max     3.230000  118608.000000"
      ]
     },
     "execution_count": 29,
     "metadata": {},
     "output_type": "execute_result"
    }
   ],
   "source": [
    "df.describe()"
   ]
  },
  {
   "cell_type": "code",
   "execution_count": 30,
   "id": "c52bebb4",
   "metadata": {},
   "outputs": [
    {
     "name": "stdout",
     "output_type": "stream",
     "text": [
      "                            OLS Regression Results                            \n",
      "==============================================================================\n",
      "Dep. Variable:                     肉類   R-squared:                       0.011\n",
      "Model:                            OLS   Adj. R-squared:                 -0.011\n",
      "Method:                 Least Squares   F-statistic:                    0.4797\n",
      "Date:                Mon, 28 Nov 2022   Prob (F-statistic):              0.492\n",
      "Time:                        03:23:00   Log-Likelihood:                -501.40\n",
      "No. Observations:                  47   AIC:                             1007.\n",
      "Df Residuals:                      45   BIC:                             1011.\n",
      "Df Model:                           1                                         \n",
      "Covariance Type:            nonrobust                                         \n",
      "==============================================================================\n",
      "                 coef    std err          t      P>|t|      [0.025      0.975]\n",
      "------------------------------------------------------------------------------\n",
      "const       6.655e+04   4.04e+04      1.648      0.106   -1.48e+04    1.48e+05\n",
      "世帯人員        9466.5872   1.37e+04      0.693      0.492   -1.81e+04     3.7e+04\n",
      "==============================================================================\n",
      "Omnibus:                        0.455   Durbin-Watson:                   0.941\n",
      "Prob(Omnibus):                  0.796   Jarque-Bera (JB):                0.596\n",
      "Skew:                           0.075   Prob(JB):                        0.742\n",
      "Kurtosis:                       2.470   Cond. No.                         85.8\n",
      "==============================================================================\n",
      "\n",
      "Notes:\n",
      "[1] Standard Errors assume that the covariance matrix of the errors is correctly specified.\n"
     ]
    }
   ],
   "source": [
    "print(res.summary())"
   ]
  },
  {
   "cell_type": "markdown",
   "id": "ba4b303b",
   "metadata": {},
   "source": [
    "目的変数「月あたりの肉類の消費量」に対する説明変数「各都道府県の世帯人員」の単回帰係数の推定値は9463.6987であった。\n",
    "すなわち、「各都道府県の世帯人員」が1人増加すると「月あたりの肉類の消費量」は9466.5872g増加するとする。\n",
    "これは、日本人1人あたりの月あたりの肉類の消費量が9466.5872gだと考えられるので、世帯人員が1人増加するごとに月あたりの肉の消費量が9466.5872gづつ増えるからだと思われる。\n",
    "\n",
    "また、切片の推定値は6.655e+04であった。\n",
    "すなわち、「各都道府県の世帯人員」が0であるとき、「月あたりの肉類の消費量」は66550gであると推定された。\n",
    "これは、データが0を含まないため切片を解釈することは意味をなさないと思われる。\n",
    "\n",
    "ただし、上記の議論は「各都道府県の世帯人員」の平均が2.72から3.23の範囲でののみ有効である。\n",
    "また、「月あたりの肉類の消費量」と「各都道府県の世帯人員」の関係性は必ずしも因果を説明している訳ではない。\n",
    "すなわち、「月あたりの肉類の消費量」を増やすために「各都道府県の世帯人員」を操作することは意味をなさない場合がある。\n",
    "また、この分析では「各都道府県の世帯人員」の他に「月あたりの肉類の消費量」と関係を持つ要因を一切考慮していない。\n",
    "すなわち、データに加えられていない何らかの要因によって「各都道府県の世帯人員」と「月あたりの肉類の消費量」に疑似的な相関関係が生じている可能性を否定できない。"
   ]
  },
  {
   "cell_type": "markdown",
   "id": "c4dbf2c7",
   "metadata": {},
   "source": [
    "目的変数「月あたりの肉類の消費量」に対する説明変数「各都道府県の世帯人員」の回帰係数は5%の有意水準ではゼロである可能性を棄却できない。「各都道府県の世帯人員」は「月あたりの肉類の消費量」と相関を持つと言い切ることができない。\n",
    "また、回帰係数の95%信頼区間は[ -1.81e+04,3.7e+04]の範囲であり、この範囲内に傾きの真値が存在すると考えることが整合的である。"
   ]
  },
  {
   "cell_type": "code",
   "execution_count": 32,
   "id": "b1385911",
   "metadata": {},
   "outputs": [],
   "source": [
    "resid = y_est - y"
   ]
  },
  {
   "cell_type": "code",
   "execution_count": 33,
   "id": "e8e90c0b",
   "metadata": {},
   "outputs": [
    {
     "data": {
      "image/png": "[encoded data removed]",
      "text/plain": [
       "<Figure size 432x288 with 1 Axes>"
      ]
     },
     "metadata": {
      "needs_background": "light"
     },
     "output_type": "display_data"
    }
   ],
   "source": [
    "plt.hist(resid)\n",
    "plt.show()"
   ]
  },
  {
   "cell_type": "code",
   "execution_count": 34,
   "id": "48c3a5ee",
   "metadata": {},
   "outputs": [
    {
     "data": {
      "image/png": "[encoded data removed]",
      "text/plain": [
       "<Figure size 432x288 with 1 Axes>"
      ]
     },
     "metadata": {
      "needs_background": "light"
     },
     "output_type": "display_data"
    }
   ],
   "source": [
    "plt.scatter(y_est,resid)\n",
    "plt.show()"
   ]
  },
  {
   "cell_type": "code",
   "execution_count": 35,
   "id": "46f55b09",
   "metadata": {},
   "outputs": [
    {
     "data": {
      "image/png": "[encoded data removed]",
      "text/plain": [
       "<Figure size 432x288 with 1 Axes>"
      ]
     },
     "metadata": {
      "needs_background": "light"
     },
     "output_type": "display_data"
    }
   ],
   "source": [
    "from scipy.stats import probplot\n",
    "ax = plt.subplot()\n",
    "probplot(resid,plot=ax)\n",
    "plt.show()"
   ]
  },
  {
   "cell_type": "markdown",
   "id": "4c6a2960",
   "metadata": {},
   "source": [
    "残差のヒストグラムを見ると左右非対称であり、1つの山を持つつりがね型と言えない形状をするため、正規分布と異なる形状をしている事が分かる。\n",
    "残差プロットを見ると目的変数の推定値は残差と無関係であるため、独立であると言えそうである。\n",
    "QQプロットを見るとデータ点が直線上に概ね載っているため、正規分布に近い形状をしている事が分かる。\n",
    "以上の事から、今回の回帰分析モデルは誤差が独立な正規分布から発生しているという前提を満たさないと判断される。\n",
    "\n"
   ]
  },
  {
   "cell_type": "code",
   "execution_count": 36,
   "id": "87d60ecd",
   "metadata": {},
   "outputs": [],
   "source": [
    "from statsmodels.tools.eval_measures import rmse"
   ]
  },
  {
   "cell_type": "code",
   "execution_count": 37,
   "id": "8276f8d5",
   "metadata": {},
   "outputs": [
    {
     "data": {
      "text/plain": [
       "10395.750043144"
      ]
     },
     "execution_count": 37,
     "metadata": {},
     "output_type": "execute_result"
    }
   ],
   "source": [
    "rmse(y, y_est)"
   ]
  },
  {
   "cell_type": "code",
   "execution_count": 38,
   "id": "d15ae668",
   "metadata": {},
   "outputs": [
    {
     "name": "stdout",
     "output_type": "stream",
     "text": [
      "                            OLS Regression Results                            \n",
      "==============================================================================\n",
      "Dep. Variable:                     肉類   R-squared:                       0.011\n",
      "Model:                            OLS   Adj. R-squared:                 -0.011\n",
      "Method:                 Least Squares   F-statistic:                    0.4797\n",
      "Date:                Mon, 28 Nov 2022   Prob (F-statistic):              0.492\n",
      "Time:                        03:47:15   Log-Likelihood:                -501.40\n",
      "No. Observations:                  47   AIC:                             1007.\n",
      "Df Residuals:                      45   BIC:                             1011.\n",
      "Df Model:                           1                                         \n",
      "Covariance Type:            nonrobust                                         \n",
      "==============================================================================\n",
      "                 coef    std err          t      P>|t|      [0.025      0.975]\n",
      "------------------------------------------------------------------------------\n",
      "const       6.655e+04   4.04e+04      1.648      0.106   -1.48e+04    1.48e+05\n",
      "世帯人員        9466.5872   1.37e+04      0.693      0.492   -1.81e+04     3.7e+04\n",
      "==============================================================================\n",
      "Omnibus:                        0.455   Durbin-Watson:                   0.941\n",
      "Prob(Omnibus):                  0.796   Jarque-Bera (JB):                0.596\n",
      "Skew:                           0.075   Prob(JB):                        0.742\n",
      "Kurtosis:                       2.470   Cond. No.                         85.8\n",
      "==============================================================================\n",
      "\n",
      "Notes:\n",
      "[1] Standard Errors assume that the covariance matrix of the errors is correctly specified.\n"
     ]
    }
   ],
   "source": [
    "print(res.summary())"
   ]
  },
  {
   "cell_type": "markdown",
   "id": "8a82444f",
   "metadata": {},
   "source": [
    "RMSE        10395.750043144\n",
    "\n",
    "決定係数　  0.011 \n",
    "\n",
    "F検定のp値　0.4797\n",
    "\n",
    "AIC         1007"
   ]
  },
  {
   "cell_type": "markdown",
   "id": "d41b9a19",
   "metadata": {},
   "source": [
    "RMSEは10395.750043144gであり、目的変数の推定値は真値に比べ平均的に10395.750043144g程度の差がある。\n",
    "決定係数は0.011であり、モデルによる目的変数の推定値によって、単純に目的変数を平均値で推定することに比べて、変動が1.1%小さくなる。\n",
    "F検定のp値は0.4797であり、有意水準0.5%で回帰係数は少なくとも1つは0ではないため対立仮説を採択する、回帰分析モデルがデータに適合していない可能性を排除できない。また, AICは1007であった。"
   ]
  },
  {
   "cell_type": "code",
   "execution_count": null,
   "id": "283553bb",
   "metadata": {},
   "outputs": [],
   "source": []
  }
 ],
 "metadata": {
  "kernelspec": {
   "display_name": "Python 3 (ipykernel)",
   "language": "python",
   "name": "python3"
  },
  "language_info": {
   "codemirror_mode": {
    "name": "ipython",
    "version": 3
   },
   "file_extension": ".py",
   "mimetype": "text/x-python",
   "name": "python",
   "nbconvert_exporter": "python",
   "pygments_lexer": "ipython3",
   "version": "3.9.12"
  }
 },
 "nbformat": 4,
 "nbformat_minor": 5
}
