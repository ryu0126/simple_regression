{
 "cells": [
  {
   "cell_type": "markdown",
   "id": "2378954f",
   "metadata": {},
   "source": [
    "## 問題設定\n",
    "日本の各都道府県には、東京のように店舗数やそこに揃えられている商品数が多く、食料の選択肢が多い県とそうでない県がある。\n",
    "そこで世帯人員が増えることによる食生活の変化がどの程度であるかを検証したい。\n",
    "つまり、日本の各都道府県の肉類の消費量を各都道府県の世帯人員によって説明したい。"
   ]
  },
  {
   "cell_type": "code",
   "execution_count": 4,
   "id": "a9322fce",
   "metadata": {},
   "outputs": [],
   "source": [
    "import numpy as np\n",
    "import pandas as pd\n",
    "import matplotlib.pyplot as plt\n",
    "from scipy.stats import pearsonr"
   ]
  },
  {
   "cell_type": "code",
   "execution_count": 5,
   "id": "168d42a3",
   "metadata": {},
   "outputs": [
    {
     "data": {
      "text/html": [
       "<div>\n",
       "<style scoped>\n",
       "    .dataframe tbody tr th:only-of-type {\n",
       "        vertical-align: middle;\n",
       "    }\n",
       "\n",
       "    .dataframe tbody tr th {\n",
       "        vertical-align: top;\n",
       "    }\n",
       "\n",
       "    .dataframe thead th {\n",
       "        text-align: right;\n",
       "    }\n",
       "</style>\n",
       "<table border=\"1\" class=\"dataframe\">\n",
       "  <thead>\n",
       "    <tr style=\"text-align: right;\">\n",
       "      <th></th>\n",
       "      <th>都道府県</th>\n",
       "      <th>世帯人員</th>\n",
       "      <th>肉類</th>\n",
       "    </tr>\n",
       "  </thead>\n",
       "  <tbody>\n",
       "    <tr>\n",
       "      <th>0</th>\n",
       "      <td>全国</td>\n",
       "      <td>2.95</td>\n",
       "      <td>95071</td>\n",
       "    </tr>\n",
       "    <tr>\n",
       "      <th>1</th>\n",
       "      <td>北海道</td>\n",
       "      <td>2.84</td>\n",
       "      <td>90249</td>\n",
       "    </tr>\n",
       "    <tr>\n",
       "      <th>2</th>\n",
       "      <td>青森県</td>\n",
       "      <td>2.87</td>\n",
       "      <td>86377</td>\n",
       "    </tr>\n",
       "    <tr>\n",
       "      <th>3</th>\n",
       "      <td>岩手県</td>\n",
       "      <td>3.12</td>\n",
       "      <td>78536</td>\n",
       "    </tr>\n",
       "    <tr>\n",
       "      <th>4</th>\n",
       "      <td>宮城県</td>\n",
       "      <td>3.00</td>\n",
       "      <td>87201</td>\n",
       "    </tr>\n",
       "  </tbody>\n",
       "</table>\n",
       "</div>"
      ],
      "text/plain": [
       "  都道府県  世帯人員     肉類\n",
       "0   全国  2.95  95071\n",
       "1  北海道  2.84  90249\n",
       "2  青森県  2.87  86377\n",
       "3  岩手県  3.12  78536\n",
       "4  宮城県  3.00  87201"
      ]
     },
     "execution_count": 5,
     "metadata": {},
     "output_type": "execute_result"
    }
   ],
   "source": [
    "df = pd.read_csv('C:/Users/koyama/OneDrive/応用統計1/SSDSE-C-2022 aaa.csv',encoding='shift-jis')\n",
    "df.head()"
   ]
  },
  {
   "cell_type": "code",
   "execution_count": 6,
   "id": "6c752aeb",
   "metadata": {},
   "outputs": [],
   "source": [
    "y = df[\"肉類\"]\n",
    "x = df['世帯人員']"
   ]
  },
  {
   "cell_type": "code",
   "execution_count": 7,
   "id": "8bccd8e3",
   "metadata": {},
   "outputs": [
    {
     "data": {
      "text/plain": [
       "<matplotlib.collections.PathCollection at 0x191f49963d0>"
      ]
     },
     "execution_count": 7,
     "metadata": {},
     "output_type": "execute_result"
    },
    {
     "data": {
      "image/png": "[encoded data removed]",
      "text/plain": [
       "<Figure size 432x288 with 1 Axes>"
      ]
     },
     "metadata": {
      "needs_background": "light"
     },
     "output_type": "display_data"
    }
   ],
   "source": [
    "plt.scatter(x,y)"
   ]
  },
  {
   "cell_type": "markdown",
   "id": "4fa5f72e",
   "metadata": {},
   "source": [
    "散布図において一貫性がなく、相関がないように思われる。"
   ]
  },
  {
   "cell_type": "code",
   "execution_count": 17,
   "id": "1e358a15",
   "metadata": {},
   "outputs": [
    {
     "data": {
      "text/plain": [
       "0.10266622001750653"
      ]
     },
     "execution_count": 17,
     "metadata": {},
     "output_type": "execute_result"
    }
   ],
   "source": [
    "r"
   ]
  },
  {
   "cell_type": "code",
   "execution_count": 8,
   "id": "d3fd1c6f",
   "metadata": {},
   "outputs": [],
   "source": [
    "p_s = 0.05"
   ]
  },
  {
   "cell_type": "code",
   "execution_count": 16,
   "id": "eafd51ca",
   "metadata": {},
   "outputs": [
    {
     "data": {
      "text/plain": [
       "0.48744318782606866"
      ]
     },
     "execution_count": 16,
     "metadata": {},
     "output_type": "execute_result"
    }
   ],
   "source": [
    "p"
   ]
  },
  {
   "cell_type": "code",
   "execution_count": 9,
   "id": "cb90e70a",
   "metadata": {},
   "outputs": [],
   "source": [
    "r, p = pearsonr(x,y)"
   ]
  },
  {
   "cell_type": "code",
   "execution_count": 18,
   "id": "18ecd7b3",
   "metadata": {},
   "outputs": [
    {
     "name": "stdout",
     "output_type": "stream",
     "text": [
      "世帯人員と肉類には相関がない可能性を排除できなかった。\n"
     ]
    }
   ],
   "source": [
    "if p < p_s:\n",
    "    print(f\"肉類と世帯人員 には相関があり、相関係数は{ｒ}であった。\")\n",
    "elif p >= p_s:\n",
    "    print(f\"世帯人員と肉類には相関がない可能性を排除できなかった。\")"
   ]
  },
  {
   "cell_type": "code",
   "execution_count": null,
   "id": "f3835068",
   "metadata": {},
   "outputs": [],
   "source": []
  }
 ],
 "metadata": {
  "kernelspec": {
   "display_name": "Python 3 (ipykernel)",
   "language": "python",
   "name": "python3"
  },
  "language_info": {
   "codemirror_mode": {
    "name": "ipython",
    "version": 3
   },
   "file_extension": ".py",
   "mimetype": "text/x-python",
   "name": "python",
   "nbconvert_exporter": "python",
   "pygments_lexer": "ipython3",
   "version": "3.9.12"
  }
 },
 "nbformat": 4,
 "nbformat_minor": 5
}
