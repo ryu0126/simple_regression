{
 "cells": [
  {
   "cell_type": "markdown",
   "id": "2378954f",
   "metadata": {},
   "source": [
    "## 問題設定\n",
    "日本の各都道府県には、東京のように店舗数やそこに揃えられている商品数が多く、食料の選択肢が多い県とそうでない県がある。\n",
    "そこで世帯人員が増えることによる食生活の変化がどの程度であるかを検証したい。\n",
    "つまり、日本の各都道府県の肉類の消費量を各都道府県の世帯人員によって説明したい。"
   ]
  },
  {
   "cell_type": "code",
   "execution_count": 6,
   "id": "a9322fce",
   "metadata": {},
   "outputs": [],
   "source": [
    "import numpy as np\n",
    "import pandas as pd\n",
    "import matplotlib.pyplot as plt\n",
    "from scipy.stats import pearsonr"
   ]
  },
  {
   "cell_type": "code",
   "execution_count": 7,
   "id": "168d42a3",
   "metadata": {},
   "outputs": [
    {
     "data": {
      "text/html": [
       "<div>\n",
       "<style scoped>\n",
       "    .dataframe tbody tr th:only-of-type {\n",
       "        vertical-align: middle;\n",
       "    }\n",
       "\n",
       "    .dataframe tbody tr th {\n",
       "        vertical-align: top;\n",
       "    }\n",
       "\n",
       "    .dataframe thead th {\n",
       "        text-align: right;\n",
       "    }\n",
       "</style>\n",
       "<table border=\"1\" class=\"dataframe\">\n",
       "  <thead>\n",
       "    <tr style=\"text-align: right;\">\n",
       "      <th></th>\n",
       "      <th>都道府県</th>\n",
       "      <th>世帯人員</th>\n",
       "      <th>肉類</th>\n",
       "    </tr>\n",
       "  </thead>\n",
       "  <tbody>\n",
       "    <tr>\n",
       "      <th>0</th>\n",
       "      <td>全国</td>\n",
       "      <td>2.95</td>\n",
       "      <td>95071</td>\n",
       "    </tr>\n",
       "    <tr>\n",
       "      <th>1</th>\n",
       "      <td>北海道</td>\n",
       "      <td>2.84</td>\n",
       "      <td>90249</td>\n",
       "    </tr>\n",
       "    <tr>\n",
       "      <th>2</th>\n",
       "      <td>青森県</td>\n",
       "      <td>2.87</td>\n",
       "      <td>86377</td>\n",
       "    </tr>\n",
       "    <tr>\n",
       "      <th>3</th>\n",
       "      <td>岩手県</td>\n",
       "      <td>3.12</td>\n",
       "      <td>78536</td>\n",
       "    </tr>\n",
       "    <tr>\n",
       "      <th>4</th>\n",
       "      <td>宮城県</td>\n",
       "      <td>3.00</td>\n",
       "      <td>87201</td>\n",
       "    </tr>\n",
       "  </tbody>\n",
       "</table>\n",
       "</div>"
      ],
      "text/plain": [
       "  都道府県  世帯人員     肉類\n",
       "0   全国  2.95  95071\n",
       "1  北海道  2.84  90249\n",
       "2  青森県  2.87  86377\n",
       "3  岩手県  3.12  78536\n",
       "4  宮城県  3.00  87201"
      ]
     },
     "execution_count": 7,
     "metadata": {},
     "output_type": "execute_result"
    }
   ],
   "source": [
    "df = pd.read_csv('C:/Users/koyama/OneDrive/応用統計1/SSDSE-C-2022 aaa.csv',encoding='shift-jis')\n",
    "df.head()"
   ]
  },
  {
   "cell_type": "code",
   "execution_count": 8,
   "id": "6c752aeb",
   "metadata": {},
   "outputs": [],
   "source": [
    "y = df[\"肉類\"]\n",
    "x = df['世帯人員']"
   ]
  },
  {
   "cell_type": "code",
   "execution_count": 9,
   "id": "8bccd8e3",
   "metadata": {},
   "outputs": [
    {
     "data": {
      "text/plain": [
       "<matplotlib.collections.PathCollection at 0x20f441015b0>"
      ]
     },
     "execution_count": 9,
     "metadata": {},
     "output_type": "execute_result"
    },
    {
     "data": {
      "image/png": "[encoded data removed]",
      "text/plain": [
       "<Figure size 432x288 with 1 Axes>"
      ]
     },
     "metadata": {
      "needs_background": "light"
     },
     "output_type": "display_data"
    }
   ],
   "source": [
    "plt.scatter(x,y)"
   ]
  },
  {
   "cell_type": "markdown",
   "id": "4fa5f72e",
   "metadata": {},
   "source": [
    "散布図において一貫性がなく、相関がないように思われる。"
   ]
  },
  {
   "cell_type": "code",
   "execution_count": 10,
   "id": "d3fd1c6f",
   "metadata": {},
   "outputs": [],
   "source": [
    "p_s = 0.05"
   ]
  },
  {
   "cell_type": "code",
   "execution_count": 11,
   "id": "cb90e70a",
   "metadata": {},
   "outputs": [],
   "source": [
    "r, p = pearsonr(x,y)"
   ]
  },
  {
   "cell_type": "code",
   "execution_count": 12,
   "id": "2fdd6cba",
   "metadata": {},
   "outputs": [
    {
     "data": {
      "text/plain": [
       "0.10266622001750653"
      ]
     },
     "execution_count": 12,
     "metadata": {},
     "output_type": "execute_result"
    }
   ],
   "source": [
    "r"
   ]
  },
  {
   "cell_type": "code",
   "execution_count": 13,
   "id": "c079214f",
   "metadata": {},
   "outputs": [
    {
     "data": {
      "text/plain": [
       "0.48744318782606866"
      ]
     },
     "execution_count": 13,
     "metadata": {},
     "output_type": "execute_result"
    }
   ],
   "source": [
    "p"
   ]
  },
  {
   "cell_type": "code",
   "execution_count": 14,
   "id": "18ecd7b3",
   "metadata": {},
   "outputs": [
    {
     "name": "stdout",
     "output_type": "stream",
     "text": [
      "世帯人員と肉類には相関がない可能性を排除できなかった。\n"
     ]
    }
   ],
   "source": [
    "if p < p_s:\n",
    "    print(f\"肉類と世帯人員 には相関があり、相関係数は{ｒ}であった。\")\n",
    "elif p >= p_s:\n",
    "    print(f\"世帯人員と肉類には相関がない可能性を排除できなかった。\")"
   ]
  },
  {
   "cell_type": "code",
   "execution_count": 15,
   "id": "f3835068",
   "metadata": {},
   "outputs": [
    {
     "data": {
      "text/plain": [
       "(0.0, 120000.0)"
      ]
     },
     "execution_count": 15,
     "metadata": {},
     "output_type": "execute_result"
    },
    {
     "data": {
      "image/png": "[encoded data removed]",
      "text/plain": [
       "<Figure size 432x288 with 1 Axes>"
      ]
     },
     "metadata": {
      "needs_background": "light"
     },
     "output_type": "display_data"
    }
   ],
   "source": [
    "plt.scatter(x,y,alpha=0.5)\n",
    "plt.xlim(xmin = 0,xmax=3.3)\n",
    "plt.ylim(ymin = 0,ymax=120000)"
   ]
  },
  {
   "cell_type": "code",
   "execution_count": 16,
   "id": "b82c27e1",
   "metadata": {},
   "outputs": [],
   "source": [
    "deta_0 = 65000\n",
    "deta_1 =10000"
   ]
  },
  {
   "cell_type": "code",
   "execution_count": 17,
   "id": "7f352f07",
   "metadata": {},
   "outputs": [
    {
     "data": {
      "image/png": "[encoded data removed]",
      "text/plain": [
       "<Figure size 432x288 with 1 Axes>"
      ]
     },
     "metadata": {
      "needs_background": "light"
     },
     "output_type": "display_data"
    }
   ],
   "source": [
    "y_est = deta_0 + deta_1 * x\n",
    "plt.scatter(x,y,alpha=0.5)\n",
    "plt.plot(x,y_est,c=\"r\")\n",
    "plt.show()"
   ]
  },
  {
   "cell_type": "code",
   "execution_count": 18,
   "id": "70484d01",
   "metadata": {},
   "outputs": [],
   "source": [
    "resid = y_est -y"
   ]
  },
  {
   "cell_type": "code",
   "execution_count": 19,
   "id": "e96be94d",
   "metadata": {},
   "outputs": [
    {
     "data": {
      "image/png": "[encoded data removed]",
      "text/plain": [
       "<Figure size 432x288 with 1 Axes>"
      ]
     },
     "metadata": {
      "needs_background": "light"
     },
     "output_type": "display_data"
    }
   ],
   "source": [
    "plt.scatter(x,resid,alpha=0.5)\n",
    "plt.show()"
   ]
  },
  {
   "cell_type": "code",
   "execution_count": 20,
   "id": "38ec961b",
   "metadata": {},
   "outputs": [
    {
     "data": {
      "text/plain": [
       "5079903393.0"
      ]
     },
     "execution_count": 20,
     "metadata": {},
     "output_type": "execute_result"
    }
   ],
   "source": [
    "np.sum(resid**2)"
   ]
  },
  {
   "cell_type": "code",
   "execution_count": 21,
   "id": "88b68040",
   "metadata": {},
   "outputs": [],
   "source": [
    "log = {\n",
    "    \"切片\":[2.6,50000,],\n",
    "    \"傾き\":[3,10000,10000],\n",
    "    \"誤差2乗和\":[433797320011.0594,\n",
    "                 15856233393.0,\n",
    "                 5079903393.0]\n",
    "}"
   ]
  },
  {
   "cell_type": "code",
   "execution_count": 22,
   "id": "f56e1cfc",
   "metadata": {},
   "outputs": [],
   "source": [
    "import statsmodels.api as sm\n"
   ]
  },
  {
   "cell_type": "code",
   "execution_count": 23,
   "id": "c0f89db8",
   "metadata": {},
   "outputs": [],
   "source": [
    "X = sm.add_constant(x)\n"
   ]
  },
  {
   "cell_type": "code",
   "execution_count": 24,
   "id": "ff4a0e78",
   "metadata": {},
   "outputs": [],
   "source": [
    "model =sm.OLS(y,X)"
   ]
  },
  {
   "cell_type": "code",
   "execution_count": 25,
   "id": "581fd73e",
   "metadata": {},
   "outputs": [],
   "source": [
    "res = model.fit()"
   ]
  },
  {
   "cell_type": "code",
   "execution_count": 30,
   "id": "0525fa3e",
   "metadata": {},
   "outputs": [
    {
     "name": "stdout",
     "output_type": "stream",
     "text": [
      "66567.21541867254 9463.698743500194\n"
     ]
    }
   ],
   "source": [
    "deta0_est,deta1_est = res.params\n",
    "print(deta0_est,deta1_est)"
   ]
  },
  {
   "cell_type": "code",
   "execution_count": 27,
   "id": "8202e821",
   "metadata": {},
   "outputs": [],
   "source": [
    "y_est = deta0_est + deta1_est*x"
   ]
  },
  {
   "cell_type": "code",
   "execution_count": 28,
   "id": "27588e23",
   "metadata": {},
   "outputs": [
    {
     "data": {
      "image/png": "[encoded data removed]",
      "text/plain": [
       "<Figure size 432x288 with 1 Axes>"
      ]
     },
     "metadata": {
      "needs_background": "light"
     },
     "output_type": "display_data"
    }
   ],
   "source": [
    "plt.scatter(x,y,alpha=0.5)\n",
    "plt.plot(x,y_est,c=\"r\")\n",
    "plt.show()"
   ]
  },
  {
   "cell_type": "code",
   "execution_count": 29,
   "id": "f46be719",
   "metadata": {},
   "outputs": [],
   "source": [
    "resid =y_est -y"
   ]
  },
  {
   "cell_type": "code",
   "execution_count": 31,
   "id": "ca6ae226",
   "metadata": {},
   "outputs": [
    {
     "data": {
      "image/png": "[encoded data removed]",
      "text/plain": [
       "<Figure size 432x288 with 1 Axes>"
      ]
     },
     "metadata": {
      "needs_background": "light"
     },
     "output_type": "display_data"
    }
   ],
   "source": [
    "plt.scatter(x,resid,alpha=0.5)\n",
    "plt.show()"
   ]
  },
  {
   "cell_type": "code",
   "execution_count": 32,
   "id": "e677c263",
   "metadata": {},
   "outputs": [
    {
     "data": {
      "text/plain": [
       "5079716646.786735"
      ]
     },
     "execution_count": 32,
     "metadata": {},
     "output_type": "execute_result"
    }
   ],
   "source": [
    "np.sum(resid**2)"
   ]
  },
  {
   "cell_type": "code",
   "execution_count": 33,
   "id": "68d21b3c",
   "metadata": {},
   "outputs": [
    {
     "data": {
      "text/plain": [
       "{'切片': [2.6, 50000],\n",
       " '傾き': [3, 10000, 10000],\n",
       " '誤差2乗和': [433797320011.0594, 15856233393.0, 5079903393.0]}"
      ]
     },
     "execution_count": 33,
     "metadata": {},
     "output_type": "execute_result"
    }
   ],
   "source": [
    "log"
   ]
  }
 ],
 "metadata": {
  "kernelspec": {
   "display_name": "Python 3 (ipykernel)",
   "language": "python",
   "name": "python3"
  },
  "language_info": {
   "codemirror_mode": {
    "name": "ipython",
    "version": 3
   },
   "file_extension": ".py",
   "mimetype": "text/x-python",
   "name": "python",
   "nbconvert_exporter": "python",
   "pygments_lexer": "ipython3",
   "version": "3.9.12"
  }
 },
 "nbformat": 4,
 "nbformat_minor": 5
}
